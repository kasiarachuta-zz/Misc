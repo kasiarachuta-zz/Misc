{
 "cells": [
  {
   "cell_type": "markdown",
   "metadata": {},
   "source": [
    "Your program should calculate the number of violations in each category, and the earliest and latest violation date for each category. You can use your preferred programming language, and decide on the presentation format of the resulting data."
   ]
  },
  {
   "cell_type": "code",
   "execution_count": 23,
   "metadata": {
    "collapsed": true
   },
   "outputs": [],
   "source": [
    "# Usual imports\n",
    "import pandas as pd"
   ]
  },
  {
   "cell_type": "code",
   "execution_count": 24,
   "metadata": {
    "collapsed": false
   },
   "outputs": [
    {
     "data": {
      "text/html": [
       "<div>\n",
       "<table border=\"1\" class=\"dataframe\">\n",
       "  <thead>\n",
       "    <tr style=\"text-align: right;\">\n",
       "      <th></th>\n",
       "      <th>violation_id</th>\n",
       "      <th>inspection_id</th>\n",
       "      <th>violation_category</th>\n",
       "      <th>violation_date</th>\n",
       "      <th>violation_date_closed</th>\n",
       "      <th>violation_type</th>\n",
       "    </tr>\n",
       "  </thead>\n",
       "  <tbody>\n",
       "    <tr>\n",
       "      <th>0</th>\n",
       "      <td>204851</td>\n",
       "      <td>261019</td>\n",
       "      <td>Garbage and Refuse</td>\n",
       "      <td>01/03/2012 00:00</td>\n",
       "      <td>02/02/2012 00:00</td>\n",
       "      <td>Refuse Accumulation</td>\n",
       "    </tr>\n",
       "    <tr>\n",
       "      <th>1</th>\n",
       "      <td>204852</td>\n",
       "      <td>261019</td>\n",
       "      <td>Unsanitary Conditions</td>\n",
       "      <td>01/03/2012 00:00</td>\n",
       "      <td>02/02/2012 00:00</td>\n",
       "      <td>Unsanitary conditions, not specified</td>\n",
       "    </tr>\n",
       "    <tr>\n",
       "      <th>2</th>\n",
       "      <td>204853</td>\n",
       "      <td>261023</td>\n",
       "      <td>Garbage and Refuse</td>\n",
       "      <td>01/03/2012 00:00</td>\n",
       "      <td>1/17/2012 0:00:00</td>\n",
       "      <td>Refuse Accumulation</td>\n",
       "    </tr>\n",
       "    <tr>\n",
       "      <th>3</th>\n",
       "      <td>204854</td>\n",
       "      <td>261023</td>\n",
       "      <td>Garbage and Refuse</td>\n",
       "      <td>01/03/2012 00:00</td>\n",
       "      <td>1/17/2012 0:00:00</td>\n",
       "      <td>Refuse Accumulation</td>\n",
       "    </tr>\n",
       "    <tr>\n",
       "      <th>4</th>\n",
       "      <td>204858</td>\n",
       "      <td>261029</td>\n",
       "      <td>Garbage and Refuse</td>\n",
       "      <td>01/03/2012 00:00</td>\n",
       "      <td>03/12/2012 00:00</td>\n",
       "      <td>Refuse Accumulation</td>\n",
       "    </tr>\n",
       "  </tbody>\n",
       "</table>\n",
       "</div>"
      ],
      "text/plain": [
       "   violation_id  inspection_id     violation_category    violation_date  \\\n",
       "0        204851         261019     Garbage and Refuse  01/03/2012 00:00   \n",
       "1        204852         261019  Unsanitary Conditions  01/03/2012 00:00   \n",
       "2        204853         261023     Garbage and Refuse  01/03/2012 00:00   \n",
       "3        204854         261023     Garbage and Refuse  01/03/2012 00:00   \n",
       "4        204858         261029     Garbage and Refuse  01/03/2012 00:00   \n",
       "\n",
       "  violation_date_closed                        violation_type  \n",
       "0      02/02/2012 00:00                   Refuse Accumulation  \n",
       "1      02/02/2012 00:00  Unsanitary conditions, not specified  \n",
       "2     1/17/2012 0:00:00                   Refuse Accumulation  \n",
       "3     1/17/2012 0:00:00                   Refuse Accumulation  \n",
       "4      03/12/2012 00:00                   Refuse Accumulation  "
      ]
     },
     "execution_count": 24,
     "metadata": {},
     "output_type": "execute_result"
    }
   ],
   "source": [
    "# Reading the CSV file with the data. Viewing the first 5 rows.\n",
    "\n",
    "violations = pd.read_csv(\"codeforaus.csv\")\n",
    "violations.head()"
   ]
  },
  {
   "cell_type": "markdown",
   "metadata": {},
   "source": [
    "Part 1: The number of violations in each category"
   ]
  },
  {
   "cell_type": "code",
   "execution_count": 25,
   "metadata": {
    "collapsed": false
   },
   "outputs": [
    {
     "data": {
      "text/plain": [
       "Animals and Pests           180\n",
       "Garbage and Refuse          126\n",
       "Unsanitary Conditions        83\n",
       "Vegetation                   67\n",
       "Building Conditions          62\n",
       "Chemical Hazards             17\n",
       "Biohazards                    7\n",
       "Air Pollutants and Odors      2\n",
       "Retail Food                   1\n",
       "Name: violation_category, dtype: int64"
      ]
     },
     "execution_count": 25,
     "metadata": {},
     "output_type": "execute_result"
    }
   ],
   "source": [
    "# The number of violations in each category.\n",
    "\n",
    "violations['violation_category'].value_counts()"
   ]
  },
  {
   "cell_type": "markdown",
   "metadata": {},
   "source": [
    "Part 2: The earliest and latest violation in each category."
   ]
  },
  {
   "cell_type": "code",
   "execution_count": 26,
   "metadata": {
    "collapsed": false
   },
   "outputs": [
    {
     "data": {
      "text/plain": [
       "violation_id              int64\n",
       "inspection_id             int64\n",
       "violation_category       object\n",
       "violation_date           object\n",
       "violation_date_closed    object\n",
       "violation_type           object\n",
       "dtype: object"
      ]
     },
     "execution_count": 26,
     "metadata": {},
     "output_type": "execute_result"
    }
   ],
   "source": [
    "# Checking object types in each column.\n",
    "\n",
    "violations.dtypes"
   ]
  },
  {
   "cell_type": "code",
   "execution_count": 27,
   "metadata": {
    "collapsed": true
   },
   "outputs": [],
   "source": [
    "# Converting the violation_date to a datetime object.\n",
    "\n",
    "violations['violation_date'] = pd.to_datetime(violations['violation_date'], unit='s')"
   ]
  },
  {
   "cell_type": "code",
   "execution_count": 28,
   "metadata": {
    "collapsed": false
   },
   "outputs": [
    {
     "data": {
      "text/plain": [
       "violation_id                      int64\n",
       "inspection_id                     int64\n",
       "violation_category               object\n",
       "violation_date           datetime64[ns]\n",
       "violation_date_closed            object\n",
       "violation_type                   object\n",
       "dtype: object"
      ]
     },
     "execution_count": 28,
     "metadata": {},
     "output_type": "execute_result"
    }
   ],
   "source": [
    "# Checking the conversion happened correctly.\n",
    "\n",
    "violations.dtypes"
   ]
  },
  {
   "cell_type": "code",
   "execution_count": 29,
   "metadata": {
    "collapsed": false
   },
   "outputs": [
    {
     "data": {
      "text/html": [
       "<div>\n",
       "<table border=\"1\" class=\"dataframe\">\n",
       "  <thead>\n",
       "    <tr style=\"text-align: right;\">\n",
       "      <th></th>\n",
       "      <th>violation_id</th>\n",
       "      <th>inspection_id</th>\n",
       "      <th>violation_category</th>\n",
       "      <th>violation_date</th>\n",
       "      <th>violation_date_closed</th>\n",
       "      <th>violation_type</th>\n",
       "    </tr>\n",
       "  </thead>\n",
       "  <tbody>\n",
       "    <tr>\n",
       "      <th>0</th>\n",
       "      <td>204851</td>\n",
       "      <td>261019</td>\n",
       "      <td>Garbage and Refuse</td>\n",
       "      <td>2012-01-03</td>\n",
       "      <td>02/02/2012 00:00</td>\n",
       "      <td>Refuse Accumulation</td>\n",
       "    </tr>\n",
       "    <tr>\n",
       "      <th>1</th>\n",
       "      <td>204852</td>\n",
       "      <td>261019</td>\n",
       "      <td>Unsanitary Conditions</td>\n",
       "      <td>2012-01-03</td>\n",
       "      <td>02/02/2012 00:00</td>\n",
       "      <td>Unsanitary conditions, not specified</td>\n",
       "    </tr>\n",
       "    <tr>\n",
       "      <th>2</th>\n",
       "      <td>204853</td>\n",
       "      <td>261023</td>\n",
       "      <td>Garbage and Refuse</td>\n",
       "      <td>2012-01-03</td>\n",
       "      <td>1/17/2012 0:00:00</td>\n",
       "      <td>Refuse Accumulation</td>\n",
       "    </tr>\n",
       "    <tr>\n",
       "      <th>3</th>\n",
       "      <td>204854</td>\n",
       "      <td>261023</td>\n",
       "      <td>Garbage and Refuse</td>\n",
       "      <td>2012-01-03</td>\n",
       "      <td>1/17/2012 0:00:00</td>\n",
       "      <td>Refuse Accumulation</td>\n",
       "    </tr>\n",
       "    <tr>\n",
       "      <th>4</th>\n",
       "      <td>204858</td>\n",
       "      <td>261029</td>\n",
       "      <td>Garbage and Refuse</td>\n",
       "      <td>2012-01-03</td>\n",
       "      <td>03/12/2012 00:00</td>\n",
       "      <td>Refuse Accumulation</td>\n",
       "    </tr>\n",
       "  </tbody>\n",
       "</table>\n",
       "</div>"
      ],
      "text/plain": [
       "   violation_id  inspection_id     violation_category violation_date  \\\n",
       "0        204851         261019     Garbage and Refuse     2012-01-03   \n",
       "1        204852         261019  Unsanitary Conditions     2012-01-03   \n",
       "2        204853         261023     Garbage and Refuse     2012-01-03   \n",
       "3        204854         261023     Garbage and Refuse     2012-01-03   \n",
       "4        204858         261029     Garbage and Refuse     2012-01-03   \n",
       "\n",
       "  violation_date_closed                        violation_type  \n",
       "0      02/02/2012 00:00                   Refuse Accumulation  \n",
       "1      02/02/2012 00:00  Unsanitary conditions, not specified  \n",
       "2     1/17/2012 0:00:00                   Refuse Accumulation  \n",
       "3     1/17/2012 0:00:00                   Refuse Accumulation  \n",
       "4      03/12/2012 00:00                   Refuse Accumulation  "
      ]
     },
     "execution_count": 29,
     "metadata": {},
     "output_type": "execute_result"
    }
   ],
   "source": [
    "# Viewing the first 5 rows of the DataFrame with converted date and time.\n",
    "violations.head()"
   ]
  },
  {
   "cell_type": "code",
   "execution_count": 30,
   "metadata": {
    "collapsed": false
   },
   "outputs": [
    {
     "data": {
      "text/html": [
       "<div>\n",
       "<table border=\"1\" class=\"dataframe\">\n",
       "  <thead>\n",
       "    <tr style=\"text-align: right;\">\n",
       "      <th></th>\n",
       "      <th>violation_id</th>\n",
       "      <th>inspection_id</th>\n",
       "      <th>violation_date</th>\n",
       "      <th>violation_date_closed</th>\n",
       "      <th>violation_type</th>\n",
       "    </tr>\n",
       "    <tr>\n",
       "      <th>violation_category</th>\n",
       "      <th></th>\n",
       "      <th></th>\n",
       "      <th></th>\n",
       "      <th></th>\n",
       "      <th></th>\n",
       "    </tr>\n",
       "  </thead>\n",
       "  <tbody>\n",
       "    <tr>\n",
       "      <th>Air Pollutants and Odors</th>\n",
       "      <td>230394</td>\n",
       "      <td>295549</td>\n",
       "      <td>2012-12-19</td>\n",
       "      <td>1/16/2013 0:00:00</td>\n",
       "      <td>Nuisance Odors</td>\n",
       "    </tr>\n",
       "    <tr>\n",
       "      <th>Animals and Pests</th>\n",
       "      <td>232528</td>\n",
       "      <td>298128</td>\n",
       "      <td>2012-12-28</td>\n",
       "      <td>9/28/2012 0:00:00</td>\n",
       "      <td>Standing Water</td>\n",
       "    </tr>\n",
       "    <tr>\n",
       "      <th>Biohazards</th>\n",
       "      <td>229670</td>\n",
       "      <td>294568</td>\n",
       "      <td>2012-12-18</td>\n",
       "      <td>4/18/2012 0:00:00</td>\n",
       "      <td>Sewage Hazard</td>\n",
       "    </tr>\n",
       "    <tr>\n",
       "      <th>Building Conditions</th>\n",
       "      <td>230544</td>\n",
       "      <td>295705</td>\n",
       "      <td>2012-12-26</td>\n",
       "      <td>9/28/2012 0:00:00</td>\n",
       "      <td>Non-functioning Smoke Detector</td>\n",
       "    </tr>\n",
       "    <tr>\n",
       "      <th>Chemical Hazards</th>\n",
       "      <td>228480</td>\n",
       "      <td>293290</td>\n",
       "      <td>2012-12-06</td>\n",
       "      <td>8/31/2012 0:00:00</td>\n",
       "      <td>Lead Hazard</td>\n",
       "    </tr>\n",
       "    <tr>\n",
       "      <th>Garbage and Refuse</th>\n",
       "      <td>230401</td>\n",
       "      <td>295549</td>\n",
       "      <td>2012-12-21</td>\n",
       "      <td>9/27/2012 0:00:00</td>\n",
       "      <td>Refuse Not Properly Stored</td>\n",
       "    </tr>\n",
       "    <tr>\n",
       "      <th>Retail Food</th>\n",
       "      <td>230525</td>\n",
       "      <td>295677</td>\n",
       "      <td>2012-12-20</td>\n",
       "      <td>1/23/2013 0:00:00</td>\n",
       "      <td>Moderate risk food holding temperature</td>\n",
       "    </tr>\n",
       "    <tr>\n",
       "      <th>Unsanitary Conditions</th>\n",
       "      <td>230403</td>\n",
       "      <td>295549</td>\n",
       "      <td>2012-12-19</td>\n",
       "      <td>9/28/2012 0:00:00</td>\n",
       "      <td>Unsanitary conditions, not specified</td>\n",
       "    </tr>\n",
       "    <tr>\n",
       "      <th>Vegetation</th>\n",
       "      <td>228436</td>\n",
       "      <td>293215</td>\n",
       "      <td>2012-12-05</td>\n",
       "      <td>9/25/2012 0:00:00</td>\n",
       "      <td>Poison Ivy or Poison Oak</td>\n",
       "    </tr>\n",
       "  </tbody>\n",
       "</table>\n",
       "</div>"
      ],
      "text/plain": [
       "                          violation_id  inspection_id violation_date  \\\n",
       "violation_category                                                     \n",
       "Air Pollutants and Odors        230394         295549     2012-12-19   \n",
       "Animals and Pests               232528         298128     2012-12-28   \n",
       "Biohazards                      229670         294568     2012-12-18   \n",
       "Building Conditions             230544         295705     2012-12-26   \n",
       "Chemical Hazards                228480         293290     2012-12-06   \n",
       "Garbage and Refuse              230401         295549     2012-12-21   \n",
       "Retail Food                     230525         295677     2012-12-20   \n",
       "Unsanitary Conditions           230403         295549     2012-12-19   \n",
       "Vegetation                      228436         293215     2012-12-05   \n",
       "\n",
       "                         violation_date_closed  \\\n",
       "violation_category                               \n",
       "Air Pollutants and Odors     1/16/2013 0:00:00   \n",
       "Animals and Pests            9/28/2012 0:00:00   \n",
       "Biohazards                   4/18/2012 0:00:00   \n",
       "Building Conditions          9/28/2012 0:00:00   \n",
       "Chemical Hazards             8/31/2012 0:00:00   \n",
       "Garbage and Refuse           9/27/2012 0:00:00   \n",
       "Retail Food                  1/23/2013 0:00:00   \n",
       "Unsanitary Conditions        9/28/2012 0:00:00   \n",
       "Vegetation                   9/25/2012 0:00:00   \n",
       "\n",
       "                                                  violation_type  \n",
       "violation_category                                                \n",
       "Air Pollutants and Odors                          Nuisance Odors  \n",
       "Animals and Pests                                 Standing Water  \n",
       "Biohazards                                         Sewage Hazard  \n",
       "Building Conditions               Non-functioning Smoke Detector  \n",
       "Chemical Hazards                                     Lead Hazard  \n",
       "Garbage and Refuse                    Refuse Not Properly Stored  \n",
       "Retail Food               Moderate risk food holding temperature  \n",
       "Unsanitary Conditions       Unsanitary conditions, not specified  \n",
       "Vegetation                              Poison Ivy or Poison Oak  "
      ]
     },
     "execution_count": 30,
     "metadata": {},
     "output_type": "execute_result"
    }
   ],
   "source": [
    "# The earliest and latest violation date for each category.\n",
    "# The latest violation.\n",
    "\n",
    "latviolations = violations.groupby(\"violation_category\").max()\n",
    "latviolations"
   ]
  },
  {
   "cell_type": "code",
   "execution_count": 31,
   "metadata": {
    "collapsed": false
   },
   "outputs": [
    {
     "data": {
      "text/html": [
       "<div>\n",
       "<table border=\"1\" class=\"dataframe\">\n",
       "  <thead>\n",
       "    <tr style=\"text-align: right;\">\n",
       "      <th></th>\n",
       "      <th>violation_id</th>\n",
       "      <th>inspection_id</th>\n",
       "      <th>violation_date</th>\n",
       "      <th>violation_date_closed</th>\n",
       "      <th>violation_type</th>\n",
       "    </tr>\n",
       "    <tr>\n",
       "      <th>violation_category</th>\n",
       "      <th></th>\n",
       "      <th></th>\n",
       "      <th></th>\n",
       "      <th></th>\n",
       "      <th></th>\n",
       "    </tr>\n",
       "  </thead>\n",
       "  <tbody>\n",
       "    <tr>\n",
       "      <th>Air Pollutants and Odors</th>\n",
       "      <td>229487</td>\n",
       "      <td>294396</td>\n",
       "      <td>2012-12-05</td>\n",
       "      <td>inf</td>\n",
       "      <td>Nuisance Odors</td>\n",
       "    </tr>\n",
       "    <tr>\n",
       "      <th>Animals and Pests</th>\n",
       "      <td>204859</td>\n",
       "      <td>261029</td>\n",
       "      <td>2012-01-03</td>\n",
       "      <td>inf</td>\n",
       "      <td>Animal Feces</td>\n",
       "    </tr>\n",
       "    <tr>\n",
       "      <th>Biohazards</th>\n",
       "      <td>212892</td>\n",
       "      <td>270707</td>\n",
       "      <td>2012-04-13</td>\n",
       "      <td>inf</td>\n",
       "      <td>Human Feces</td>\n",
       "    </tr>\n",
       "    <tr>\n",
       "      <th>Building Conditions</th>\n",
       "      <td>205555</td>\n",
       "      <td>261851</td>\n",
       "      <td>2012-01-12</td>\n",
       "      <td>inf</td>\n",
       "      <td>Barrier to Emergency Ingress or Egress</td>\n",
       "    </tr>\n",
       "    <tr>\n",
       "      <th>Chemical Hazards</th>\n",
       "      <td>207490</td>\n",
       "      <td>264406</td>\n",
       "      <td>2012-02-08</td>\n",
       "      <td>inf</td>\n",
       "      <td>Lead Hazard</td>\n",
       "    </tr>\n",
       "    <tr>\n",
       "      <th>Garbage and Refuse</th>\n",
       "      <td>204851</td>\n",
       "      <td>261019</td>\n",
       "      <td>2012-01-03</td>\n",
       "      <td>inf</td>\n",
       "      <td>Abandoned Vehicle</td>\n",
       "    </tr>\n",
       "    <tr>\n",
       "      <th>Retail Food</th>\n",
       "      <td>230525</td>\n",
       "      <td>295677</td>\n",
       "      <td>2012-12-20</td>\n",
       "      <td>1/23/2013 0:00:00</td>\n",
       "      <td>Moderate risk food holding temperature</td>\n",
       "    </tr>\n",
       "    <tr>\n",
       "      <th>Unsanitary Conditions</th>\n",
       "      <td>204852</td>\n",
       "      <td>261019</td>\n",
       "      <td>2012-01-03</td>\n",
       "      <td>inf</td>\n",
       "      <td>Unsanitary Floors or Walls</td>\n",
       "    </tr>\n",
       "    <tr>\n",
       "      <th>Vegetation</th>\n",
       "      <td>207159</td>\n",
       "      <td>263995</td>\n",
       "      <td>2012-02-01</td>\n",
       "      <td>inf</td>\n",
       "      <td>Overgrown Vegetation</td>\n",
       "    </tr>\n",
       "  </tbody>\n",
       "</table>\n",
       "</div>"
      ],
      "text/plain": [
       "                          violation_id  inspection_id violation_date  \\\n",
       "violation_category                                                     \n",
       "Air Pollutants and Odors        229487         294396     2012-12-05   \n",
       "Animals and Pests               204859         261029     2012-01-03   \n",
       "Biohazards                      212892         270707     2012-04-13   \n",
       "Building Conditions             205555         261851     2012-01-12   \n",
       "Chemical Hazards                207490         264406     2012-02-08   \n",
       "Garbage and Refuse              204851         261019     2012-01-03   \n",
       "Retail Food                     230525         295677     2012-12-20   \n",
       "Unsanitary Conditions           204852         261019     2012-01-03   \n",
       "Vegetation                      207159         263995     2012-02-01   \n",
       "\n",
       "                         violation_date_closed  \\\n",
       "violation_category                               \n",
       "Air Pollutants and Odors                   inf   \n",
       "Animals and Pests                          inf   \n",
       "Biohazards                                 inf   \n",
       "Building Conditions                        inf   \n",
       "Chemical Hazards                           inf   \n",
       "Garbage and Refuse                         inf   \n",
       "Retail Food                  1/23/2013 0:00:00   \n",
       "Unsanitary Conditions                      inf   \n",
       "Vegetation                                 inf   \n",
       "\n",
       "                                                  violation_type  \n",
       "violation_category                                                \n",
       "Air Pollutants and Odors                          Nuisance Odors  \n",
       "Animals and Pests                                   Animal Feces  \n",
       "Biohazards                                           Human Feces  \n",
       "Building Conditions       Barrier to Emergency Ingress or Egress  \n",
       "Chemical Hazards                                     Lead Hazard  \n",
       "Garbage and Refuse                             Abandoned Vehicle  \n",
       "Retail Food               Moderate risk food holding temperature  \n",
       "Unsanitary Conditions                 Unsanitary Floors or Walls  \n",
       "Vegetation                                  Overgrown Vegetation  "
      ]
     },
     "execution_count": 31,
     "metadata": {},
     "output_type": "execute_result"
    }
   ],
   "source": [
    "# The earliest violation.\n",
    "\n",
    "erviolations = violations.groupby(\"violation_category\").min()\n",
    "erviolations"
   ]
  },
  {
   "cell_type": "code",
   "execution_count": 32,
   "metadata": {
    "collapsed": false
   },
   "outputs": [
    {
     "data": {
      "text/html": [
       "<div>\n",
       "<table border=\"1\" class=\"dataframe\">\n",
       "  <thead>\n",
       "    <tr style=\"text-align: right;\">\n",
       "      <th></th>\n",
       "      <th>violation_category</th>\n",
       "      <th>earliest_violation_date</th>\n",
       "      <th>latest_violation_date</th>\n",
       "    </tr>\n",
       "  </thead>\n",
       "  <tbody>\n",
       "    <tr>\n",
       "      <th>0</th>\n",
       "      <td>Air Pollutants and Odors</td>\n",
       "      <td>2012-12-05</td>\n",
       "      <td>2012-12-19</td>\n",
       "    </tr>\n",
       "    <tr>\n",
       "      <th>1</th>\n",
       "      <td>Animals and Pests</td>\n",
       "      <td>2012-01-03</td>\n",
       "      <td>2012-12-28</td>\n",
       "    </tr>\n",
       "    <tr>\n",
       "      <th>2</th>\n",
       "      <td>Biohazards</td>\n",
       "      <td>2012-04-13</td>\n",
       "      <td>2012-12-18</td>\n",
       "    </tr>\n",
       "    <tr>\n",
       "      <th>3</th>\n",
       "      <td>Building Conditions</td>\n",
       "      <td>2012-01-12</td>\n",
       "      <td>2012-12-26</td>\n",
       "    </tr>\n",
       "    <tr>\n",
       "      <th>4</th>\n",
       "      <td>Chemical Hazards</td>\n",
       "      <td>2012-02-08</td>\n",
       "      <td>2012-12-06</td>\n",
       "    </tr>\n",
       "    <tr>\n",
       "      <th>5</th>\n",
       "      <td>Garbage and Refuse</td>\n",
       "      <td>2012-01-03</td>\n",
       "      <td>2012-12-21</td>\n",
       "    </tr>\n",
       "    <tr>\n",
       "      <th>6</th>\n",
       "      <td>Retail Food</td>\n",
       "      <td>2012-12-20</td>\n",
       "      <td>2012-12-20</td>\n",
       "    </tr>\n",
       "    <tr>\n",
       "      <th>7</th>\n",
       "      <td>Unsanitary Conditions</td>\n",
       "      <td>2012-01-03</td>\n",
       "      <td>2012-12-19</td>\n",
       "    </tr>\n",
       "    <tr>\n",
       "      <th>8</th>\n",
       "      <td>Vegetation</td>\n",
       "      <td>2012-02-01</td>\n",
       "      <td>2012-12-05</td>\n",
       "    </tr>\n",
       "  </tbody>\n",
       "</table>\n",
       "</div>"
      ],
      "text/plain": [
       "         violation_category earliest_violation_date latest_violation_date\n",
       "0  Air Pollutants and Odors              2012-12-05            2012-12-19\n",
       "1         Animals and Pests              2012-01-03            2012-12-28\n",
       "2                Biohazards              2012-04-13            2012-12-18\n",
       "3       Building Conditions              2012-01-12            2012-12-26\n",
       "4          Chemical Hazards              2012-02-08            2012-12-06\n",
       "5        Garbage and Refuse              2012-01-03            2012-12-21\n",
       "6               Retail Food              2012-12-20            2012-12-20\n",
       "7     Unsanitary Conditions              2012-01-03            2012-12-19\n",
       "8                Vegetation              2012-02-01            2012-12-05"
      ]
     },
     "execution_count": 32,
     "metadata": {},
     "output_type": "execute_result"
    }
   ],
   "source": [
    "# Presenting the final results of earliest and latest violations.\n",
    "latviolations = latviolations.reset_index()\n",
    "latviolations = latviolations[['violation_category', 'violation_date']]\n",
    "latviolations.columns = 'violation_category', 'latest_violation_date'\n",
    "\n",
    "erviolations = erviolations.reset_index()\n",
    "erviolations = erviolations[['violation_category', 'violation_date']]\n",
    "erviolations.columns = 'violation_category', 'earliest_violation_date'\n",
    "\n",
    "finaldf = pd.merge(erviolations, latviolations, on='violation_category')\n",
    "finaldf"
   ]
  }
 ],
 "metadata": {
  "kernelspec": {
   "display_name": "Python 2",
   "language": "python",
   "name": "python2"
  },
  "language_info": {
   "codemirror_mode": {
    "name": "ipython",
    "version": 2
   },
   "file_extension": ".py",
   "mimetype": "text/x-python",
   "name": "python",
   "nbconvert_exporter": "python",
   "pygments_lexer": "ipython2",
   "version": "2.7.11"
  }
 },
 "nbformat": 4,
 "nbformat_minor": 0
}
